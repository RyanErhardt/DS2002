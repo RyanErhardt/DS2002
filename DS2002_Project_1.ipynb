{
  "nbformat": 4,
  "nbformat_minor": 0,
  "metadata": {
    "colab": {
      "provenance": []
    },
    "kernelspec": {
      "name": "python3",
      "display_name": "Python 3"
    },
    "language_info": {
      "name": "python"
    }
  },
  "cells": [
    {
      "cell_type": "markdown",
      "source": [
        "**First Data Source**"
      ],
      "metadata": {
        "id": "BakFxCO3RTPa"
      }
    },
    {
      "cell_type": "markdown",
      "source": [
        "**Loading** CSV file of Charlottesville current real estate assessments from local file"
      ],
      "metadata": {
        "id": "pr2lpC3U6IBL"
      }
    },
    {
      "cell_type": "code",
      "execution_count": 27,
      "metadata": {
        "colab": {
          "base_uri": "https://localhost:8080/"
        },
        "id": "I8BypsXqMFTw",
        "outputId": "a57474c9-479e-41ba-8769-5f7b77135c9f"
      },
      "outputs": [
        {
          "output_type": "stream",
          "name": "stdout",
          "text": [
            "Data loaded into DataFrame successfully.\n",
            "  ParcelNumber  CurrentAssessedValue  OBJECTID st_number      st_name st_unit  \\\n",
            "0    010001600             123617500  50437660       600    MASSIE RD     NaN   \n",
            "1    010001200               1721100  50437661      1159  MILLMONT ST     NaN   \n",
            "2    010001500               2146000  50437662      1149  MILLMONT ST     NaN   \n",
            "3    010001000             166481200  50437663      1117   EMMET ST N     NaN   \n",
            "4    010001300               1218100  50437664   1135-37  MILLMONT ST     NaN   \n",
            "\n",
            "                                   LEGALDESCR      LOTSQFT  \n",
            "0                            80 AC JAG SCHOOL  3516163.200  \n",
            "1                            LOT C-1 WEST BAR    25264.800  \n",
            "2                           LOT C-2A WEST BAR    39944.520  \n",
            "3  39.832 ACRES BARRACKS ROAD SHOPPING CENTER  1937043.504  \n",
            "4                           LOT C-2B WEST BAR    17816.040  \n"
          ]
        }
      ],
      "source": [
        "# Import necessary dependencies\n",
        "import pandas as pd\n",
        "import sqlite3\n",
        "import os\n",
        "\n",
        "local_file = \"Real_Estate_(Current_Assessments).csv\"\n",
        "\n",
        "# Check if the file exists\n",
        "if not os.path.isfile(local_file):\n",
        "    print(\"The specified file does not exist.\")\n",
        "else:\n",
        "    # Load the CSV into a DataFrame\n",
        "    estate_df = pd.read_csv(local_file)\n",
        "    print(\"Data loaded into DataFrame successfully.\")\n",
        "\n",
        "    # Print the first few rows\n",
        "    print(estate_df.head())"
      ]
    },
    {
      "cell_type": "markdown",
      "source": [
        "Number of rows and columns in dataframe"
      ],
      "metadata": {
        "id": "gP2XTM_nC1FD"
      }
    },
    {
      "cell_type": "code",
      "source": [
        "# Get the number of rows and columns\n",
        "num_rows, num_columns = estate_df.shape\n",
        "\n",
        "# Print the results\n",
        "print(f\"Number of rows: {num_rows}\")\n",
        "print(f\"Number of columns: {num_columns}\")"
      ],
      "metadata": {
        "colab": {
          "base_uri": "https://localhost:8080/"
        },
        "id": "C07HmrbxC1ZK",
        "outputId": "732ac0b0-bfb9-4ffd-b540-83cdb6f64ae6"
      },
      "execution_count": 31,
      "outputs": [
        {
          "output_type": "stream",
          "name": "stdout",
          "text": [
            "Number of rows: 15671\n",
            "Number of columns: 8\n"
          ]
        }
      ]
    },
    {
      "cell_type": "markdown",
      "source": [
        "Remove the st_unit column from the dataframe"
      ],
      "metadata": {
        "id": "OBzSsS2aCSTx"
      }
    },
    {
      "cell_type": "code",
      "source": [
        "estate_df = estate_df.drop(columns=['st_unit'])\n",
        "print(\"'st_unit' column has been removed.\")"
      ],
      "metadata": {
        "colab": {
          "base_uri": "https://localhost:8080/"
        },
        "id": "lmo1cLQICTYw",
        "outputId": "4e5abe9c-131b-4028-8358-66e002efe257"
      },
      "execution_count": 33,
      "outputs": [
        {
          "output_type": "stream",
          "name": "stdout",
          "text": [
            "'st_unit' column has been removed.\n"
          ]
        }
      ]
    },
    {
      "cell_type": "markdown",
      "source": [
        "New number of rows and columns of the dataframe"
      ],
      "metadata": {
        "id": "ZAEJ_zZ4DKNr"
      }
    },
    {
      "cell_type": "code",
      "source": [
        "# Get the number of rows and columns\n",
        "num_rows, num_columns = estate_df.shape\n",
        "\n",
        "# Print the results\n",
        "print(f\"Number of rows: {num_rows}\")\n",
        "print(f\"Number of columns: {num_columns}\")"
      ],
      "metadata": {
        "colab": {
          "base_uri": "https://localhost:8080/"
        },
        "id": "NHGkpzyrDKc6",
        "outputId": "0957fe91-2f08-4be5-f679-8de98cadcd7f"
      },
      "execution_count": 34,
      "outputs": [
        {
          "output_type": "stream",
          "name": "stdout",
          "text": [
            "Number of rows: 15671\n",
            "Number of columns: 7\n"
          ]
        }
      ]
    },
    {
      "cell_type": "markdown",
      "source": [
        "**Convert** and locally **Store** the dataframe into any CSV,JSON, or SQL"
      ],
      "metadata": {
        "id": "25iQE4AeAKtB"
      }
    },
    {
      "cell_type": "code",
      "source": [
        "# Input for the output format\n",
        "output_format = input(\"Enter the output format (CSV/JSON/SQL): \").strip().lower()\n",
        "\n",
        "# Based on the input, perform the appropriate action\n",
        "if output_format == 'csv':\n",
        "    filename = input(\"Enter the filename to save (with .csv extension): \")\n",
        "    estate_df.to_csv(filename, index=False)\n",
        "    print(f\"DataFrame saved to {filename} as CSV.\")\n",
        "\n",
        "elif output_format == 'json':\n",
        "    filename = input(\"Enter the filename to save (with .json extension): \")\n",
        "    estate_df.to_json(filename, orient='records', lines=True)\n",
        "    print(f\"DataFrame saved to {filename} as JSON.\")\n",
        "\n",
        "elif output_format == 'sql':\n",
        "    db_file = input(\"Enter the SQLite database file path: \")\n",
        "    table_name = input(\"Enter the table name: \")\n",
        "    with sqlite3.connect(db_file) as conn:\n",
        "        estate_df.to_sql(table_name, con=conn, if_exists='replace', index=False)\n",
        "    print(f\"DataFrame saved to SQLite table '{table_name}' in database '{db_file}'.\")\n",
        "\n",
        "else:\n",
        "    print(\"Invalid format. Please enter CSV, JSON, or SQL.\")"
      ],
      "metadata": {
        "colab": {
          "base_uri": "https://localhost:8080/"
        },
        "id": "79zBorneALFl",
        "outputId": "89f57e58-aa7f-4103-f705-eaa5f5b114d6"
      },
      "execution_count": 29,
      "outputs": [
        {
          "output_type": "stream",
          "name": "stdout",
          "text": [
            "Enter the output format (CSV/JSON/SQL): SQL\n",
            "Enter the SQLite database file path: estatesss\n",
            "Enter the table name: real_estate\n",
            "DataFrame saved to SQLite table 'real_estate' in database 'estatesss'.\n"
          ]
        }
      ]
    },
    {
      "cell_type": "markdown",
      "source": [
        "**Second Data Source**"
      ],
      "metadata": {
        "id": "bS49UJyFE0_e"
      }
    },
    {
      "cell_type": "markdown",
      "source": [
        "**Loading** json file of pokemon data from local file"
      ],
      "metadata": {
        "id": "SAUOyc996kEV"
      }
    },
    {
      "cell_type": "code",
      "source": [
        "import pandas as pd\n",
        "import json\n",
        "import sqlite3\n",
        "import os\n",
        "\n",
        "if os.path.isfile(json_file):\n",
        "    with open(json_file, 'r') as f:  # Open the file\n",
        "        pokemon_data = json.load(f)  # Load JSON data\n",
        "\n",
        "    # Convert the loaded JSON data into a Pandas DataFrame\n",
        "    df = pd.DataFrame(pokemon_data)\n",
        "\n",
        "    # Display the first few rows of the DataFrame\n",
        "    print(\"Data loaded successfully:\")\n",
        "else:\n",
        "    print(f\"Error: The file '{json_file}' does not exist.\")\n",
        "\n",
        "# Convert to pandas dataframe\n",
        "pokemon_df = pd.DataFrame(pokemon_data)\n",
        "pokemon_df.head()"
      ],
      "metadata": {
        "colab": {
          "base_uri": "https://localhost:8080/",
          "height": 486
        },
        "id": "gvqIsAB-RA5r",
        "outputId": "c025d7a1-7cf4-43b9-f3d9-5f4335012247"
      },
      "execution_count": 24,
      "outputs": [
        {
          "output_type": "stream",
          "name": "stdout",
          "text": [
            "Data loaded successfully:\n"
          ]
        },
        {
          "output_type": "execute_result",
          "data": {
            "text/plain": [
              "         name    id                                           imageurl  \\\n",
              "0   Bulbasaur  #001  https://assets.pokemon.com/assets/cms2/img/pok...   \n",
              "1     Ivysaur  #002  https://assets.pokemon.com/assets/cms2/img/pok...   \n",
              "2    Venusaur  #003  https://assets.pokemon.com/assets/cms2/img/pok...   \n",
              "3  Charmander  #004  https://assets.pokemon.com/assets/cms2/img/pok...   \n",
              "4  Charmeleon  #005  https://assets.pokemon.com/assets/cms2/img/pok...   \n",
              "\n",
              "                                        xdescription  \\\n",
              "0  Bulbasaur can be seen napping in bright sunlig...   \n",
              "1  There is a bud on this Pokémon's back. To supp...   \n",
              "2  There is a large flower on Venusaur's back. Th...   \n",
              "3  The flame that burns at the tip of its tail is...   \n",
              "4  Charmeleon mercilessly destroys its foes using...   \n",
              "\n",
              "                                        ydescription  height category  \\\n",
              "0  Bulbasaur can be seen napping in bright sunlig...  2' 04\"     Seed   \n",
              "1  There is a bud on this Pokémon's back. To supp...  3' 03\"     Seed   \n",
              "2  There is a large flower on Venusaur's back. Th...  6' 07\"     Seed   \n",
              "3  The flame that burns at the tip of its tail is...  2' 00\"   Lizard   \n",
              "4  Charmeleon mercilessly destroys its foes using...  3' 07\"    Flame   \n",
              "\n",
              "      weight    typeofpokemon                    weaknesses  \\\n",
              "0   15.2 lbs  [Grass, Poison]  [Fire, Flying, Ice, Psychic]   \n",
              "1   28.7 lbs  [Grass, Poison]  [Fire, Flying, Ice, Psychic]   \n",
              "2  220.5 lbs  [Grass, Poison]  [Fire, Flying, Ice, Psychic]   \n",
              "3   18.7 lbs           [Fire]         [Ground, Rock, Water]   \n",
              "4   41.9 lbs           [Fire]         [Ground, Rock, Water]   \n",
              "\n",
              "           evolutions   abilities  \n",
              "0  [#001, #002, #003]  [Overgrow]  \n",
              "1  [#001, #002, #003]  [Overgrow]  \n",
              "2  [#001, #002, #003]  [Overgrow]  \n",
              "3  [#004, #005, #006]     [Blaze]  \n",
              "4  [#004, #005, #006]     [Blaze]  "
            ],
            "text/html": [
              "\n",
              "  <div id=\"df-2ba51a8c-02c8-4648-af9d-6d1a175a54ff\" class=\"colab-df-container\">\n",
              "    <div>\n",
              "<style scoped>\n",
              "    .dataframe tbody tr th:only-of-type {\n",
              "        vertical-align: middle;\n",
              "    }\n",
              "\n",
              "    .dataframe tbody tr th {\n",
              "        vertical-align: top;\n",
              "    }\n",
              "\n",
              "    .dataframe thead th {\n",
              "        text-align: right;\n",
              "    }\n",
              "</style>\n",
              "<table border=\"1\" class=\"dataframe\">\n",
              "  <thead>\n",
              "    <tr style=\"text-align: right;\">\n",
              "      <th></th>\n",
              "      <th>name</th>\n",
              "      <th>id</th>\n",
              "      <th>imageurl</th>\n",
              "      <th>xdescription</th>\n",
              "      <th>ydescription</th>\n",
              "      <th>height</th>\n",
              "      <th>category</th>\n",
              "      <th>weight</th>\n",
              "      <th>typeofpokemon</th>\n",
              "      <th>weaknesses</th>\n",
              "      <th>evolutions</th>\n",
              "      <th>abilities</th>\n",
              "    </tr>\n",
              "  </thead>\n",
              "  <tbody>\n",
              "    <tr>\n",
              "      <th>0</th>\n",
              "      <td>Bulbasaur</td>\n",
              "      <td>#001</td>\n",
              "      <td>https://assets.pokemon.com/assets/cms2/img/pok...</td>\n",
              "      <td>Bulbasaur can be seen napping in bright sunlig...</td>\n",
              "      <td>Bulbasaur can be seen napping in bright sunlig...</td>\n",
              "      <td>2' 04\"</td>\n",
              "      <td>Seed</td>\n",
              "      <td>15.2 lbs</td>\n",
              "      <td>[Grass, Poison]</td>\n",
              "      <td>[Fire, Flying, Ice, Psychic]</td>\n",
              "      <td>[#001, #002, #003]</td>\n",
              "      <td>[Overgrow]</td>\n",
              "    </tr>\n",
              "    <tr>\n",
              "      <th>1</th>\n",
              "      <td>Ivysaur</td>\n",
              "      <td>#002</td>\n",
              "      <td>https://assets.pokemon.com/assets/cms2/img/pok...</td>\n",
              "      <td>There is a bud on this Pokémon's back. To supp...</td>\n",
              "      <td>There is a bud on this Pokémon's back. To supp...</td>\n",
              "      <td>3' 03\"</td>\n",
              "      <td>Seed</td>\n",
              "      <td>28.7 lbs</td>\n",
              "      <td>[Grass, Poison]</td>\n",
              "      <td>[Fire, Flying, Ice, Psychic]</td>\n",
              "      <td>[#001, #002, #003]</td>\n",
              "      <td>[Overgrow]</td>\n",
              "    </tr>\n",
              "    <tr>\n",
              "      <th>2</th>\n",
              "      <td>Venusaur</td>\n",
              "      <td>#003</td>\n",
              "      <td>https://assets.pokemon.com/assets/cms2/img/pok...</td>\n",
              "      <td>There is a large flower on Venusaur's back. Th...</td>\n",
              "      <td>There is a large flower on Venusaur's back. Th...</td>\n",
              "      <td>6' 07\"</td>\n",
              "      <td>Seed</td>\n",
              "      <td>220.5 lbs</td>\n",
              "      <td>[Grass, Poison]</td>\n",
              "      <td>[Fire, Flying, Ice, Psychic]</td>\n",
              "      <td>[#001, #002, #003]</td>\n",
              "      <td>[Overgrow]</td>\n",
              "    </tr>\n",
              "    <tr>\n",
              "      <th>3</th>\n",
              "      <td>Charmander</td>\n",
              "      <td>#004</td>\n",
              "      <td>https://assets.pokemon.com/assets/cms2/img/pok...</td>\n",
              "      <td>The flame that burns at the tip of its tail is...</td>\n",
              "      <td>The flame that burns at the tip of its tail is...</td>\n",
              "      <td>2' 00\"</td>\n",
              "      <td>Lizard</td>\n",
              "      <td>18.7 lbs</td>\n",
              "      <td>[Fire]</td>\n",
              "      <td>[Ground, Rock, Water]</td>\n",
              "      <td>[#004, #005, #006]</td>\n",
              "      <td>[Blaze]</td>\n",
              "    </tr>\n",
              "    <tr>\n",
              "      <th>4</th>\n",
              "      <td>Charmeleon</td>\n",
              "      <td>#005</td>\n",
              "      <td>https://assets.pokemon.com/assets/cms2/img/pok...</td>\n",
              "      <td>Charmeleon mercilessly destroys its foes using...</td>\n",
              "      <td>Charmeleon mercilessly destroys its foes using...</td>\n",
              "      <td>3' 07\"</td>\n",
              "      <td>Flame</td>\n",
              "      <td>41.9 lbs</td>\n",
              "      <td>[Fire]</td>\n",
              "      <td>[Ground, Rock, Water]</td>\n",
              "      <td>[#004, #005, #006]</td>\n",
              "      <td>[Blaze]</td>\n",
              "    </tr>\n",
              "  </tbody>\n",
              "</table>\n",
              "</div>\n",
              "    <div class=\"colab-df-buttons\">\n",
              "\n",
              "  <div class=\"colab-df-container\">\n",
              "    <button class=\"colab-df-convert\" onclick=\"convertToInteractive('df-2ba51a8c-02c8-4648-af9d-6d1a175a54ff')\"\n",
              "            title=\"Convert this dataframe to an interactive table.\"\n",
              "            style=\"display:none;\">\n",
              "\n",
              "  <svg xmlns=\"http://www.w3.org/2000/svg\" height=\"24px\" viewBox=\"0 -960 960 960\">\n",
              "    <path d=\"M120-120v-720h720v720H120Zm60-500h600v-160H180v160Zm220 220h160v-160H400v160Zm0 220h160v-160H400v160ZM180-400h160v-160H180v160Zm440 0h160v-160H620v160ZM180-180h160v-160H180v160Zm440 0h160v-160H620v160Z\"/>\n",
              "  </svg>\n",
              "    </button>\n",
              "\n",
              "  <style>\n",
              "    .colab-df-container {\n",
              "      display:flex;\n",
              "      gap: 12px;\n",
              "    }\n",
              "\n",
              "    .colab-df-convert {\n",
              "      background-color: #E8F0FE;\n",
              "      border: none;\n",
              "      border-radius: 50%;\n",
              "      cursor: pointer;\n",
              "      display: none;\n",
              "      fill: #1967D2;\n",
              "      height: 32px;\n",
              "      padding: 0 0 0 0;\n",
              "      width: 32px;\n",
              "    }\n",
              "\n",
              "    .colab-df-convert:hover {\n",
              "      background-color: #E2EBFA;\n",
              "      box-shadow: 0px 1px 2px rgba(60, 64, 67, 0.3), 0px 1px 3px 1px rgba(60, 64, 67, 0.15);\n",
              "      fill: #174EA6;\n",
              "    }\n",
              "\n",
              "    .colab-df-buttons div {\n",
              "      margin-bottom: 4px;\n",
              "    }\n",
              "\n",
              "    [theme=dark] .colab-df-convert {\n",
              "      background-color: #3B4455;\n",
              "      fill: #D2E3FC;\n",
              "    }\n",
              "\n",
              "    [theme=dark] .colab-df-convert:hover {\n",
              "      background-color: #434B5C;\n",
              "      box-shadow: 0px 1px 3px 1px rgba(0, 0, 0, 0.15);\n",
              "      filter: drop-shadow(0px 1px 2px rgba(0, 0, 0, 0.3));\n",
              "      fill: #FFFFFF;\n",
              "    }\n",
              "  </style>\n",
              "\n",
              "    <script>\n",
              "      const buttonEl =\n",
              "        document.querySelector('#df-2ba51a8c-02c8-4648-af9d-6d1a175a54ff button.colab-df-convert');\n",
              "      buttonEl.style.display =\n",
              "        google.colab.kernel.accessAllowed ? 'block' : 'none';\n",
              "\n",
              "      async function convertToInteractive(key) {\n",
              "        const element = document.querySelector('#df-2ba51a8c-02c8-4648-af9d-6d1a175a54ff');\n",
              "        const dataTable =\n",
              "          await google.colab.kernel.invokeFunction('convertToInteractive',\n",
              "                                                    [key], {});\n",
              "        if (!dataTable) return;\n",
              "\n",
              "        const docLinkHtml = 'Like what you see? Visit the ' +\n",
              "          '<a target=\"_blank\" href=https://colab.research.google.com/notebooks/data_table.ipynb>data table notebook</a>'\n",
              "          + ' to learn more about interactive tables.';\n",
              "        element.innerHTML = '';\n",
              "        dataTable['output_type'] = 'display_data';\n",
              "        await google.colab.output.renderOutput(dataTable, element);\n",
              "        const docLink = document.createElement('div');\n",
              "        docLink.innerHTML = docLinkHtml;\n",
              "        element.appendChild(docLink);\n",
              "      }\n",
              "    </script>\n",
              "  </div>\n",
              "\n",
              "\n",
              "<div id=\"df-b7883168-3d5b-4207-983d-273675f5a98c\">\n",
              "  <button class=\"colab-df-quickchart\" onclick=\"quickchart('df-b7883168-3d5b-4207-983d-273675f5a98c')\"\n",
              "            title=\"Suggest charts\"\n",
              "            style=\"display:none;\">\n",
              "\n",
              "<svg xmlns=\"http://www.w3.org/2000/svg\" height=\"24px\"viewBox=\"0 0 24 24\"\n",
              "     width=\"24px\">\n",
              "    <g>\n",
              "        <path d=\"M19 3H5c-1.1 0-2 .9-2 2v14c0 1.1.9 2 2 2h14c1.1 0 2-.9 2-2V5c0-1.1-.9-2-2-2zM9 17H7v-7h2v7zm4 0h-2V7h2v10zm4 0h-2v-4h2v4z\"/>\n",
              "    </g>\n",
              "</svg>\n",
              "  </button>\n",
              "\n",
              "<style>\n",
              "  .colab-df-quickchart {\n",
              "      --bg-color: #E8F0FE;\n",
              "      --fill-color: #1967D2;\n",
              "      --hover-bg-color: #E2EBFA;\n",
              "      --hover-fill-color: #174EA6;\n",
              "      --disabled-fill-color: #AAA;\n",
              "      --disabled-bg-color: #DDD;\n",
              "  }\n",
              "\n",
              "  [theme=dark] .colab-df-quickchart {\n",
              "      --bg-color: #3B4455;\n",
              "      --fill-color: #D2E3FC;\n",
              "      --hover-bg-color: #434B5C;\n",
              "      --hover-fill-color: #FFFFFF;\n",
              "      --disabled-bg-color: #3B4455;\n",
              "      --disabled-fill-color: #666;\n",
              "  }\n",
              "\n",
              "  .colab-df-quickchart {\n",
              "    background-color: var(--bg-color);\n",
              "    border: none;\n",
              "    border-radius: 50%;\n",
              "    cursor: pointer;\n",
              "    display: none;\n",
              "    fill: var(--fill-color);\n",
              "    height: 32px;\n",
              "    padding: 0;\n",
              "    width: 32px;\n",
              "  }\n",
              "\n",
              "  .colab-df-quickchart:hover {\n",
              "    background-color: var(--hover-bg-color);\n",
              "    box-shadow: 0 1px 2px rgba(60, 64, 67, 0.3), 0 1px 3px 1px rgba(60, 64, 67, 0.15);\n",
              "    fill: var(--button-hover-fill-color);\n",
              "  }\n",
              "\n",
              "  .colab-df-quickchart-complete:disabled,\n",
              "  .colab-df-quickchart-complete:disabled:hover {\n",
              "    background-color: var(--disabled-bg-color);\n",
              "    fill: var(--disabled-fill-color);\n",
              "    box-shadow: none;\n",
              "  }\n",
              "\n",
              "  .colab-df-spinner {\n",
              "    border: 2px solid var(--fill-color);\n",
              "    border-color: transparent;\n",
              "    border-bottom-color: var(--fill-color);\n",
              "    animation:\n",
              "      spin 1s steps(1) infinite;\n",
              "  }\n",
              "\n",
              "  @keyframes spin {\n",
              "    0% {\n",
              "      border-color: transparent;\n",
              "      border-bottom-color: var(--fill-color);\n",
              "      border-left-color: var(--fill-color);\n",
              "    }\n",
              "    20% {\n",
              "      border-color: transparent;\n",
              "      border-left-color: var(--fill-color);\n",
              "      border-top-color: var(--fill-color);\n",
              "    }\n",
              "    30% {\n",
              "      border-color: transparent;\n",
              "      border-left-color: var(--fill-color);\n",
              "      border-top-color: var(--fill-color);\n",
              "      border-right-color: var(--fill-color);\n",
              "    }\n",
              "    40% {\n",
              "      border-color: transparent;\n",
              "      border-right-color: var(--fill-color);\n",
              "      border-top-color: var(--fill-color);\n",
              "    }\n",
              "    60% {\n",
              "      border-color: transparent;\n",
              "      border-right-color: var(--fill-color);\n",
              "    }\n",
              "    80% {\n",
              "      border-color: transparent;\n",
              "      border-right-color: var(--fill-color);\n",
              "      border-bottom-color: var(--fill-color);\n",
              "    }\n",
              "    90% {\n",
              "      border-color: transparent;\n",
              "      border-bottom-color: var(--fill-color);\n",
              "    }\n",
              "  }\n",
              "</style>\n",
              "\n",
              "  <script>\n",
              "    async function quickchart(key) {\n",
              "      const quickchartButtonEl =\n",
              "        document.querySelector('#' + key + ' button');\n",
              "      quickchartButtonEl.disabled = true;  // To prevent multiple clicks.\n",
              "      quickchartButtonEl.classList.add('colab-df-spinner');\n",
              "      try {\n",
              "        const charts = await google.colab.kernel.invokeFunction(\n",
              "            'suggestCharts', [key], {});\n",
              "      } catch (error) {\n",
              "        console.error('Error during call to suggestCharts:', error);\n",
              "      }\n",
              "      quickchartButtonEl.classList.remove('colab-df-spinner');\n",
              "      quickchartButtonEl.classList.add('colab-df-quickchart-complete');\n",
              "    }\n",
              "    (() => {\n",
              "      let quickchartButtonEl =\n",
              "        document.querySelector('#df-b7883168-3d5b-4207-983d-273675f5a98c button');\n",
              "      quickchartButtonEl.style.display =\n",
              "        google.colab.kernel.accessAllowed ? 'block' : 'none';\n",
              "    })();\n",
              "  </script>\n",
              "</div>\n",
              "\n",
              "    </div>\n",
              "  </div>\n"
            ],
            "application/vnd.google.colaboratory.intrinsic+json": {
              "type": "dataframe",
              "variable_name": "pokemon_df",
              "summary": "{\n  \"name\": \"pokemon_df\",\n  \"rows\": 808,\n  \"fields\": [\n    {\n      \"column\": \"name\",\n      \"properties\": {\n        \"dtype\": \"string\",\n        \"num_unique_values\": 808,\n        \"samples\": [\n          \"Amaura\",\n          \"Hariyama\",\n          \"Houndour\"\n        ],\n        \"semantic_type\": \"\",\n        \"description\": \"\"\n      }\n    },\n    {\n      \"column\": \"id\",\n      \"properties\": {\n        \"dtype\": \"string\",\n        \"num_unique_values\": 808,\n        \"samples\": [\n          \"#698\",\n          \"#297\",\n          \"#228\"\n        ],\n        \"semantic_type\": \"\",\n        \"description\": \"\"\n      }\n    },\n    {\n      \"column\": \"imageurl\",\n      \"properties\": {\n        \"dtype\": \"string\",\n        \"num_unique_values\": 808,\n        \"samples\": [\n          \"https://assets.pokemon.com/assets/cms2/img/pokedex/full/698.png\",\n          \"https://assets.pokemon.com/assets/cms2/img/pokedex/full/297.png\",\n          \"https://assets.pokemon.com/assets/cms2/img/pokedex/full/228.png\"\n        ],\n        \"semantic_type\": \"\",\n        \"description\": \"\"\n      }\n    },\n    {\n      \"column\": \"xdescription\",\n      \"properties\": {\n        \"dtype\": \"string\",\n        \"num_unique_values\": 808,\n        \"samples\": [\n          \"This calm Pok\\u00e9mon lived in a cold land where there were no violent predators like Tyrantrum.\",\n          \"Hariyama's thick body may appear fat, but it is actually a hunk of solid muscle. If this Pok\\u00e9mon bears down and tightens all its muscles, its body becomes as hard as a rock.\",\n          \"Houndour hunt as a coordinated pack. They communicate with each other using a variety of cries to corner their prey. This Pok\\u00e9mon's remarkable teamwork is unparalleled.\"\n        ],\n        \"semantic_type\": \"\",\n        \"description\": \"\"\n      }\n    },\n    {\n      \"column\": \"ydescription\",\n      \"properties\": {\n        \"dtype\": \"string\",\n        \"num_unique_values\": 808,\n        \"samples\": [\n          \"This ancient Pok\\u00e9mon was restored from part of its body that had been frozen in ice for over 100 million years.\",\n          \"Hariyama practices its straight-arm slaps in any number of locations. One hit of this Pok\\u00e9mon's powerful, openhanded, straight-arm punches could snap a telephone pole in two.\",\n          \"Houndour hunt as a coordinated pack. They communicate with each other using a variety of cries to corner their prey. This Pok\\u00e9mon's remarkable teamwork is unparalleled.\"\n        ],\n        \"semantic_type\": \"\",\n        \"description\": \"\"\n      }\n    },\n    {\n      \"column\": \"height\",\n      \"properties\": {\n        \"dtype\": \"category\",\n        \"num_unique_values\": 52,\n        \"samples\": [\n          \"5' 11\\\"\",\n          \"0' 04\\\"\",\n          \"16' 05\\\"\"\n        ],\n        \"semantic_type\": \"\",\n        \"description\": \"\"\n      }\n    },\n    {\n      \"column\": \"category\",\n      \"properties\": {\n        \"dtype\": \"string\",\n        \"num_unique_values\": 590,\n        \"samples\": [\n          \"Mischief\",\n          \"Spark\",\n          \"Stump\"\n        ],\n        \"semantic_type\": \"\",\n        \"description\": \"\"\n      }\n    },\n    {\n      \"column\": \"weight\",\n      \"properties\": {\n        \"dtype\": \"string\",\n        \"num_unique_values\": 422,\n        \"samples\": [\n          \"35.3 lbs\",\n          \"168.7 lbs\",\n          \"5.1 lbs\"\n        ],\n        \"semantic_type\": \"\",\n        \"description\": \"\"\n      }\n    },\n    {\n      \"column\": \"typeofpokemon\",\n      \"properties\": {\n        \"dtype\": \"object\",\n        \"semantic_type\": \"\",\n        \"description\": \"\"\n      }\n    },\n    {\n      \"column\": \"weaknesses\",\n      \"properties\": {\n        \"dtype\": \"object\",\n        \"semantic_type\": \"\",\n        \"description\": \"\"\n      }\n    },\n    {\n      \"column\": \"evolutions\",\n      \"properties\": {\n        \"dtype\": \"object\",\n        \"semantic_type\": \"\",\n        \"description\": \"\"\n      }\n    },\n    {\n      \"column\": \"abilities\",\n      \"properties\": {\n        \"dtype\": \"object\",\n        \"semantic_type\": \"\",\n        \"description\": \"\"\n      }\n    }\n  ]\n}"
            }
          },
          "metadata": {},
          "execution_count": 24
        }
      ]
    },
    {
      "cell_type": "markdown",
      "source": [
        "Number of rows and columns in dataframe"
      ],
      "metadata": {
        "id": "-_CllKq3_4HT"
      }
    },
    {
      "cell_type": "code",
      "source": [
        "# Get the number of rows and columns\n",
        "num_rows, num_columns = pokemon_df.shape\n",
        "\n",
        "# Print the results\n",
        "print(f\"Number of rows: {num_rows}\")\n",
        "print(f\"Number of columns: {num_columns}\")"
      ],
      "metadata": {
        "colab": {
          "base_uri": "https://localhost:8080/"
        },
        "id": "a_TnAuKFFESn",
        "outputId": "7d3cffbe-923a-4666-8479-84da8494faf3"
      },
      "execution_count": 35,
      "outputs": [
        {
          "output_type": "stream",
          "name": "stdout",
          "text": [
            "Number of rows: 808\n",
            "Number of columns: 12\n"
          ]
        }
      ]
    },
    {
      "cell_type": "markdown",
      "source": [
        "Removing imageurl column"
      ],
      "metadata": {
        "id": "03EMrlbvFG8r"
      }
    },
    {
      "cell_type": "code",
      "source": [
        "pokemon_df = pokemon_df.drop(columns=['imageurl'])\n",
        "print(\"'imageurl' column has been removed.\")"
      ],
      "metadata": {
        "colab": {
          "base_uri": "https://localhost:8080/"
        },
        "id": "f1c_3bWhFHfF",
        "outputId": "6e18b124-818e-4274-d2e3-832c8f9da9e7"
      },
      "execution_count": 36,
      "outputs": [
        {
          "output_type": "stream",
          "name": "stdout",
          "text": [
            "'imageurl' column has been removed.\n"
          ]
        }
      ]
    },
    {
      "cell_type": "markdown",
      "source": [
        "New number of rows and columns"
      ],
      "metadata": {
        "id": "EEK3bGrYFaUJ"
      }
    },
    {
      "cell_type": "code",
      "source": [
        "# Get the number of rows and columns\n",
        "num_rows, num_columns = pokemon_df.shape\n",
        "\n",
        "# Print the results\n",
        "print(f\"Number of rows: {num_rows}\")\n",
        "print(f\"Number of columns: {num_columns}\")"
      ],
      "metadata": {
        "colab": {
          "base_uri": "https://localhost:8080/"
        },
        "id": "rdaEDPp8FZxw",
        "outputId": "dfe21ffc-62a5-468b-c758-9e0b81c410c1"
      },
      "execution_count": 37,
      "outputs": [
        {
          "output_type": "stream",
          "name": "stdout",
          "text": [
            "Number of rows: 808\n",
            "Number of columns: 11\n"
          ]
        }
      ]
    },
    {
      "cell_type": "markdown",
      "source": [
        "**Convert** and locally **Store** the dataframe into any CSV,JSON, or SQL"
      ],
      "metadata": {
        "id": "Lxu7Y_HfFebQ"
      }
    },
    {
      "cell_type": "code",
      "source": [
        "# Input for the output format\n",
        "output_format = input(\"Enter the output format (CSV/JSON/SQL): \").strip().lower()\n",
        "\n",
        "# Based on the input, perform the appropriate action\n",
        "if output_format == 'csv':\n",
        "    filename = input(\"Enter the filename to save (with .csv extension): \")\n",
        "    pokemon_df.to_csv(filename, index=False)\n",
        "    print(f\"DataFrame saved to {filename} as CSV.\")\n",
        "\n",
        "elif output_format == 'json':\n",
        "    filename = input(\"Enter the filename to save (with .json extension): \")\n",
        "    pokemon_df.to_json(filename, orient='records', lines=True)\n",
        "    print(f\"DataFrame saved to {filename} as JSON.\")\n",
        "\n",
        "elif output_format == 'sql':\n",
        "    db_file = input(\"Enter the SQLite database file path: \")\n",
        "    table_name = input(\"Enter the table name: \")\n",
        "    with sqlite3.connect(db_file) as conn:\n",
        "        pokemon_df.to_sql(table_name, con=conn, if_exists='replace', index=False)\n",
        "    print(f\"DataFrame saved to SQLite table '{table_name}' in database '{db_file}'.\")\n",
        "\n",
        "else:\n",
        "    print(\"Invalid format. Please enter CSV, JSON, or SQL.\")"
      ],
      "metadata": {
        "colab": {
          "base_uri": "https://localhost:8080/"
        },
        "id": "ecoGw-clFeD1",
        "outputId": "0e002598-4043-4658-d86f-a7aa36a89a2b"
      },
      "execution_count": 38,
      "outputs": [
        {
          "output_type": "stream",
          "name": "stdout",
          "text": [
            "Enter the output format (CSV/JSON/SQL): CSV\n",
            "Enter the filename to save (with .csv extension): pokemon\n",
            "DataFrame saved to pokemon as CSV.\n"
          ]
        }
      ]
    }
  ]
}